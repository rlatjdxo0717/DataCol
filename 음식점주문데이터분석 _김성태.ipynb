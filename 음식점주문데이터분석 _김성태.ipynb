{
 "cells": [
  {
   "cell_type": "code",
   "execution_count": 3,
   "metadata": {},
   "outputs": [],
   "source": [
    "import pandas as pd"
   ]
  },
  {
   "cell_type": "code",
   "execution_count": 4,
   "metadata": {},
   "outputs": [
    {
     "data": {
      "text/html": [
       "<div>\n",
       "<style scoped>\n",
       "    .dataframe tbody tr th:only-of-type {\n",
       "        vertical-align: middle;\n",
       "    }\n",
       "\n",
       "    .dataframe tbody tr th {\n",
       "        vertical-align: top;\n",
       "    }\n",
       "\n",
       "    .dataframe thead th {\n",
       "        text-align: right;\n",
       "    }\n",
       "</style>\n",
       "<table border=\"1\" class=\"dataframe\">\n",
       "  <thead>\n",
       "    <tr style=\"text-align: right;\">\n",
       "      <th></th>\n",
       "      <th>order_id</th>\n",
       "      <th>quantity</th>\n",
       "      <th>item_name</th>\n",
       "      <th>choice_description</th>\n",
       "      <th>item_price</th>\n",
       "    </tr>\n",
       "  </thead>\n",
       "  <tbody>\n",
       "    <tr>\n",
       "      <th>0</th>\n",
       "      <td>1</td>\n",
       "      <td>1</td>\n",
       "      <td>Chips and Fresh Tomato Salsa</td>\n",
       "      <td>NaN</td>\n",
       "      <td>$2.39</td>\n",
       "    </tr>\n",
       "    <tr>\n",
       "      <th>1</th>\n",
       "      <td>1</td>\n",
       "      <td>1</td>\n",
       "      <td>Izze</td>\n",
       "      <td>[Clementine]</td>\n",
       "      <td>$3.39</td>\n",
       "    </tr>\n",
       "    <tr>\n",
       "      <th>2</th>\n",
       "      <td>1</td>\n",
       "      <td>1</td>\n",
       "      <td>Nantucket Nectar</td>\n",
       "      <td>[Apple]</td>\n",
       "      <td>$3.39</td>\n",
       "    </tr>\n",
       "    <tr>\n",
       "      <th>3</th>\n",
       "      <td>1</td>\n",
       "      <td>1</td>\n",
       "      <td>Chips and Tomatillo-Green Chili Salsa</td>\n",
       "      <td>NaN</td>\n",
       "      <td>$2.39</td>\n",
       "    </tr>\n",
       "    <tr>\n",
       "      <th>4</th>\n",
       "      <td>2</td>\n",
       "      <td>2</td>\n",
       "      <td>Chicken Bowl</td>\n",
       "      <td>[Tomatillo-Red Chili Salsa (Hot), [Black Beans...</td>\n",
       "      <td>$16.98</td>\n",
       "    </tr>\n",
       "    <tr>\n",
       "      <th>...</th>\n",
       "      <td>...</td>\n",
       "      <td>...</td>\n",
       "      <td>...</td>\n",
       "      <td>...</td>\n",
       "      <td>...</td>\n",
       "    </tr>\n",
       "    <tr>\n",
       "      <th>4617</th>\n",
       "      <td>1833</td>\n",
       "      <td>1</td>\n",
       "      <td>Steak Burrito</td>\n",
       "      <td>[Fresh Tomato Salsa, [Rice, Black Beans, Sour ...</td>\n",
       "      <td>$11.75</td>\n",
       "    </tr>\n",
       "    <tr>\n",
       "      <th>4618</th>\n",
       "      <td>1833</td>\n",
       "      <td>1</td>\n",
       "      <td>Steak Burrito</td>\n",
       "      <td>[Fresh Tomato Salsa, [Rice, Sour Cream, Cheese...</td>\n",
       "      <td>$11.75</td>\n",
       "    </tr>\n",
       "    <tr>\n",
       "      <th>4619</th>\n",
       "      <td>1834</td>\n",
       "      <td>1</td>\n",
       "      <td>Chicken Salad Bowl</td>\n",
       "      <td>[Fresh Tomato Salsa, [Fajita Vegetables, Pinto...</td>\n",
       "      <td>$11.25</td>\n",
       "    </tr>\n",
       "    <tr>\n",
       "      <th>4620</th>\n",
       "      <td>1834</td>\n",
       "      <td>1</td>\n",
       "      <td>Chicken Salad Bowl</td>\n",
       "      <td>[Fresh Tomato Salsa, [Fajita Vegetables, Lettu...</td>\n",
       "      <td>$8.75</td>\n",
       "    </tr>\n",
       "    <tr>\n",
       "      <th>4621</th>\n",
       "      <td>1834</td>\n",
       "      <td>1</td>\n",
       "      <td>Chicken Salad Bowl</td>\n",
       "      <td>[Fresh Tomato Salsa, [Fajita Vegetables, Pinto...</td>\n",
       "      <td>$8.75</td>\n",
       "    </tr>\n",
       "  </tbody>\n",
       "</table>\n",
       "<p>4622 rows × 5 columns</p>\n",
       "</div>"
      ],
      "text/plain": [
       "      order_id  quantity                              item_name  \\\n",
       "0            1         1           Chips and Fresh Tomato Salsa   \n",
       "1            1         1                                   Izze   \n",
       "2            1         1                       Nantucket Nectar   \n",
       "3            1         1  Chips and Tomatillo-Green Chili Salsa   \n",
       "4            2         2                           Chicken Bowl   \n",
       "...        ...       ...                                    ...   \n",
       "4617      1833         1                          Steak Burrito   \n",
       "4618      1833         1                          Steak Burrito   \n",
       "4619      1834         1                     Chicken Salad Bowl   \n",
       "4620      1834         1                     Chicken Salad Bowl   \n",
       "4621      1834         1                     Chicken Salad Bowl   \n",
       "\n",
       "                                     choice_description item_price  \n",
       "0                                                   NaN     $2.39   \n",
       "1                                          [Clementine]     $3.39   \n",
       "2                                               [Apple]     $3.39   \n",
       "3                                                   NaN     $2.39   \n",
       "4     [Tomatillo-Red Chili Salsa (Hot), [Black Beans...    $16.98   \n",
       "...                                                 ...        ...  \n",
       "4617  [Fresh Tomato Salsa, [Rice, Black Beans, Sour ...    $11.75   \n",
       "4618  [Fresh Tomato Salsa, [Rice, Sour Cream, Cheese...    $11.75   \n",
       "4619  [Fresh Tomato Salsa, [Fajita Vegetables, Pinto...    $11.25   \n",
       "4620  [Fresh Tomato Salsa, [Fajita Vegetables, Lettu...     $8.75   \n",
       "4621  [Fresh Tomato Salsa, [Fajita Vegetables, Pinto...     $8.75   \n",
       "\n",
       "[4622 rows x 5 columns]"
      ]
     },
     "execution_count": 4,
     "metadata": {},
     "output_type": "execute_result"
    }
   ],
   "source": [
    "food = pd.read_csv('../data/chipotle.tsv', sep='\\t')\n",
    "food"
   ]
  },
  {
   "cell_type": "code",
   "execution_count": 5,
   "metadata": {},
   "outputs": [
    {
     "data": {
      "text/plain": [
       "order_id               int64\n",
       "quantity               int64\n",
       "item_name             object\n",
       "choice_description    object\n",
       "item_price            object\n",
       "dtype: object"
      ]
     },
     "execution_count": 5,
     "metadata": {},
     "output_type": "execute_result"
    }
   ],
   "source": [
    "food.dtypes"
   ]
  },
  {
   "cell_type": "code",
   "execution_count": 6,
   "metadata": {},
   "outputs": [
    {
     "data": {
      "text/plain": [
       "(4622, 5)"
      ]
     },
     "execution_count": 6,
     "metadata": {},
     "output_type": "execute_result"
    }
   ],
   "source": [
    "food.shape"
   ]
  },
  {
   "cell_type": "code",
   "execution_count": 7,
   "metadata": {},
   "outputs": [
    {
     "name": "stdout",
     "output_type": "stream",
     "text": [
      "<class 'pandas.core.frame.DataFrame'>\n",
      "RangeIndex: 4622 entries, 0 to 4621\n",
      "Data columns (total 5 columns):\n",
      " #   Column              Non-Null Count  Dtype \n",
      "---  ------              --------------  ----- \n",
      " 0   order_id            4622 non-null   int64 \n",
      " 1   quantity            4622 non-null   int64 \n",
      " 2   item_name           4622 non-null   object\n",
      " 3   choice_description  3376 non-null   object\n",
      " 4   item_price          4622 non-null   object\n",
      "dtypes: int64(2), object(3)\n",
      "memory usage: 180.7+ KB\n"
     ]
    }
   ],
   "source": [
    "food.info()"
   ]
  },
  {
   "cell_type": "code",
   "execution_count": 8,
   "metadata": {},
   "outputs": [
    {
     "data": {
      "text/html": [
       "<div>\n",
       "<style scoped>\n",
       "    .dataframe tbody tr th:only-of-type {\n",
       "        vertical-align: middle;\n",
       "    }\n",
       "\n",
       "    .dataframe tbody tr th {\n",
       "        vertical-align: top;\n",
       "    }\n",
       "\n",
       "    .dataframe thead th {\n",
       "        text-align: right;\n",
       "    }\n",
       "</style>\n",
       "<table border=\"1\" class=\"dataframe\">\n",
       "  <thead>\n",
       "    <tr style=\"text-align: right;\">\n",
       "      <th></th>\n",
       "      <th>order_id</th>\n",
       "      <th>quantity</th>\n",
       "      <th>item_name</th>\n",
       "      <th>choice_description</th>\n",
       "      <th>item_price</th>\n",
       "    </tr>\n",
       "  </thead>\n",
       "  <tbody>\n",
       "    <tr>\n",
       "      <th>0</th>\n",
       "      <td>1</td>\n",
       "      <td>1</td>\n",
       "      <td>Chips and Fresh Tomato Salsa</td>\n",
       "      <td>NaN</td>\n",
       "      <td>$2.39</td>\n",
       "    </tr>\n",
       "    <tr>\n",
       "      <th>1</th>\n",
       "      <td>1</td>\n",
       "      <td>1</td>\n",
       "      <td>Izze</td>\n",
       "      <td>[Clementine]</td>\n",
       "      <td>$3.39</td>\n",
       "    </tr>\n",
       "    <tr>\n",
       "      <th>2</th>\n",
       "      <td>1</td>\n",
       "      <td>1</td>\n",
       "      <td>Nantucket Nectar</td>\n",
       "      <td>[Apple]</td>\n",
       "      <td>$3.39</td>\n",
       "    </tr>\n",
       "    <tr>\n",
       "      <th>3</th>\n",
       "      <td>1</td>\n",
       "      <td>1</td>\n",
       "      <td>Chips and Tomatillo-Green Chili Salsa</td>\n",
       "      <td>NaN</td>\n",
       "      <td>$2.39</td>\n",
       "    </tr>\n",
       "    <tr>\n",
       "      <th>4</th>\n",
       "      <td>2</td>\n",
       "      <td>2</td>\n",
       "      <td>Chicken Bowl</td>\n",
       "      <td>[Tomatillo-Red Chili Salsa (Hot), [Black Beans...</td>\n",
       "      <td>$16.98</td>\n",
       "    </tr>\n",
       "    <tr>\n",
       "      <th>5</th>\n",
       "      <td>3</td>\n",
       "      <td>1</td>\n",
       "      <td>Chicken Bowl</td>\n",
       "      <td>[Fresh Tomato Salsa (Mild), [Rice, Cheese, Sou...</td>\n",
       "      <td>$10.98</td>\n",
       "    </tr>\n",
       "    <tr>\n",
       "      <th>6</th>\n",
       "      <td>3</td>\n",
       "      <td>1</td>\n",
       "      <td>Side of Chips</td>\n",
       "      <td>NaN</td>\n",
       "      <td>$1.69</td>\n",
       "    </tr>\n",
       "    <tr>\n",
       "      <th>7</th>\n",
       "      <td>4</td>\n",
       "      <td>1</td>\n",
       "      <td>Steak Burrito</td>\n",
       "      <td>[Tomatillo Red Chili Salsa, [Fajita Vegetables...</td>\n",
       "      <td>$11.75</td>\n",
       "    </tr>\n",
       "    <tr>\n",
       "      <th>8</th>\n",
       "      <td>4</td>\n",
       "      <td>1</td>\n",
       "      <td>Steak Soft Tacos</td>\n",
       "      <td>[Tomatillo Green Chili Salsa, [Pinto Beans, Ch...</td>\n",
       "      <td>$9.25</td>\n",
       "    </tr>\n",
       "    <tr>\n",
       "      <th>9</th>\n",
       "      <td>5</td>\n",
       "      <td>1</td>\n",
       "      <td>Steak Burrito</td>\n",
       "      <td>[Fresh Tomato Salsa, [Rice, Black Beans, Pinto...</td>\n",
       "      <td>$9.25</td>\n",
       "    </tr>\n",
       "  </tbody>\n",
       "</table>\n",
       "</div>"
      ],
      "text/plain": [
       "   order_id  quantity                              item_name  \\\n",
       "0         1         1           Chips and Fresh Tomato Salsa   \n",
       "1         1         1                                   Izze   \n",
       "2         1         1                       Nantucket Nectar   \n",
       "3         1         1  Chips and Tomatillo-Green Chili Salsa   \n",
       "4         2         2                           Chicken Bowl   \n",
       "5         3         1                           Chicken Bowl   \n",
       "6         3         1                          Side of Chips   \n",
       "7         4         1                          Steak Burrito   \n",
       "8         4         1                       Steak Soft Tacos   \n",
       "9         5         1                          Steak Burrito   \n",
       "\n",
       "                                  choice_description item_price  \n",
       "0                                                NaN     $2.39   \n",
       "1                                       [Clementine]     $3.39   \n",
       "2                                            [Apple]     $3.39   \n",
       "3                                                NaN     $2.39   \n",
       "4  [Tomatillo-Red Chili Salsa (Hot), [Black Beans...    $16.98   \n",
       "5  [Fresh Tomato Salsa (Mild), [Rice, Cheese, Sou...    $10.98   \n",
       "6                                                NaN     $1.69   \n",
       "7  [Tomatillo Red Chili Salsa, [Fajita Vegetables...    $11.75   \n",
       "8  [Tomatillo Green Chili Salsa, [Pinto Beans, Ch...     $9.25   \n",
       "9  [Fresh Tomato Salsa, [Rice, Black Beans, Pinto...     $9.25   "
      ]
     },
     "execution_count": 8,
     "metadata": {},
     "output_type": "execute_result"
    }
   ],
   "source": [
    "food.head(10)"
   ]
  },
  {
   "cell_type": "code",
   "execution_count": 9,
   "metadata": {},
   "outputs": [
    {
     "data": {
      "text/html": [
       "<div>\n",
       "<style scoped>\n",
       "    .dataframe tbody tr th:only-of-type {\n",
       "        vertical-align: middle;\n",
       "    }\n",
       "\n",
       "    .dataframe tbody tr th {\n",
       "        vertical-align: top;\n",
       "    }\n",
       "\n",
       "    .dataframe thead th {\n",
       "        text-align: right;\n",
       "    }\n",
       "</style>\n",
       "<table border=\"1\" class=\"dataframe\">\n",
       "  <thead>\n",
       "    <tr style=\"text-align: right;\">\n",
       "      <th></th>\n",
       "      <th>order_id</th>\n",
       "      <th>quantity</th>\n",
       "      <th>item_name</th>\n",
       "      <th>choice_description</th>\n",
       "      <th>item_price</th>\n",
       "    </tr>\n",
       "  </thead>\n",
       "  <tbody>\n",
       "    <tr>\n",
       "      <th>4612</th>\n",
       "      <td>1831</td>\n",
       "      <td>1</td>\n",
       "      <td>Carnitas Bowl</td>\n",
       "      <td>[Fresh Tomato Salsa, [Fajita Vegetables, Rice,...</td>\n",
       "      <td>$9.25</td>\n",
       "    </tr>\n",
       "    <tr>\n",
       "      <th>4613</th>\n",
       "      <td>1831</td>\n",
       "      <td>1</td>\n",
       "      <td>Chips</td>\n",
       "      <td>NaN</td>\n",
       "      <td>$2.15</td>\n",
       "    </tr>\n",
       "    <tr>\n",
       "      <th>4614</th>\n",
       "      <td>1831</td>\n",
       "      <td>1</td>\n",
       "      <td>Bottled Water</td>\n",
       "      <td>NaN</td>\n",
       "      <td>$1.50</td>\n",
       "    </tr>\n",
       "    <tr>\n",
       "      <th>4615</th>\n",
       "      <td>1832</td>\n",
       "      <td>1</td>\n",
       "      <td>Chicken Soft Tacos</td>\n",
       "      <td>[Fresh Tomato Salsa, [Rice, Cheese, Sour Cream]]</td>\n",
       "      <td>$8.75</td>\n",
       "    </tr>\n",
       "    <tr>\n",
       "      <th>4616</th>\n",
       "      <td>1832</td>\n",
       "      <td>1</td>\n",
       "      <td>Chips and Guacamole</td>\n",
       "      <td>NaN</td>\n",
       "      <td>$4.45</td>\n",
       "    </tr>\n",
       "    <tr>\n",
       "      <th>4617</th>\n",
       "      <td>1833</td>\n",
       "      <td>1</td>\n",
       "      <td>Steak Burrito</td>\n",
       "      <td>[Fresh Tomato Salsa, [Rice, Black Beans, Sour ...</td>\n",
       "      <td>$11.75</td>\n",
       "    </tr>\n",
       "    <tr>\n",
       "      <th>4618</th>\n",
       "      <td>1833</td>\n",
       "      <td>1</td>\n",
       "      <td>Steak Burrito</td>\n",
       "      <td>[Fresh Tomato Salsa, [Rice, Sour Cream, Cheese...</td>\n",
       "      <td>$11.75</td>\n",
       "    </tr>\n",
       "    <tr>\n",
       "      <th>4619</th>\n",
       "      <td>1834</td>\n",
       "      <td>1</td>\n",
       "      <td>Chicken Salad Bowl</td>\n",
       "      <td>[Fresh Tomato Salsa, [Fajita Vegetables, Pinto...</td>\n",
       "      <td>$11.25</td>\n",
       "    </tr>\n",
       "    <tr>\n",
       "      <th>4620</th>\n",
       "      <td>1834</td>\n",
       "      <td>1</td>\n",
       "      <td>Chicken Salad Bowl</td>\n",
       "      <td>[Fresh Tomato Salsa, [Fajita Vegetables, Lettu...</td>\n",
       "      <td>$8.75</td>\n",
       "    </tr>\n",
       "    <tr>\n",
       "      <th>4621</th>\n",
       "      <td>1834</td>\n",
       "      <td>1</td>\n",
       "      <td>Chicken Salad Bowl</td>\n",
       "      <td>[Fresh Tomato Salsa, [Fajita Vegetables, Pinto...</td>\n",
       "      <td>$8.75</td>\n",
       "    </tr>\n",
       "  </tbody>\n",
       "</table>\n",
       "</div>"
      ],
      "text/plain": [
       "      order_id  quantity            item_name  \\\n",
       "4612      1831         1        Carnitas Bowl   \n",
       "4613      1831         1                Chips   \n",
       "4614      1831         1        Bottled Water   \n",
       "4615      1832         1   Chicken Soft Tacos   \n",
       "4616      1832         1  Chips and Guacamole   \n",
       "4617      1833         1        Steak Burrito   \n",
       "4618      1833         1        Steak Burrito   \n",
       "4619      1834         1   Chicken Salad Bowl   \n",
       "4620      1834         1   Chicken Salad Bowl   \n",
       "4621      1834         1   Chicken Salad Bowl   \n",
       "\n",
       "                                     choice_description item_price  \n",
       "4612  [Fresh Tomato Salsa, [Fajita Vegetables, Rice,...     $9.25   \n",
       "4613                                                NaN     $2.15   \n",
       "4614                                                NaN     $1.50   \n",
       "4615   [Fresh Tomato Salsa, [Rice, Cheese, Sour Cream]]     $8.75   \n",
       "4616                                                NaN     $4.45   \n",
       "4617  [Fresh Tomato Salsa, [Rice, Black Beans, Sour ...    $11.75   \n",
       "4618  [Fresh Tomato Salsa, [Rice, Sour Cream, Cheese...    $11.75   \n",
       "4619  [Fresh Tomato Salsa, [Fajita Vegetables, Pinto...    $11.25   \n",
       "4620  [Fresh Tomato Salsa, [Fajita Vegetables, Lettu...     $8.75   \n",
       "4621  [Fresh Tomato Salsa, [Fajita Vegetables, Pinto...     $8.75   "
      ]
     },
     "execution_count": 9,
     "metadata": {},
     "output_type": "execute_result"
    }
   ],
   "source": [
    "food.tail(10)"
   ]
  },
  {
   "cell_type": "code",
   "execution_count": 10,
   "metadata": {},
   "outputs": [
    {
     "data": {
      "text/plain": [
       "Index(['order_id', 'quantity', 'item_name', 'choice_description',\n",
       "       'item_price'],\n",
       "      dtype='object')"
      ]
     },
     "execution_count": 10,
     "metadata": {},
     "output_type": "execute_result"
    }
   ],
   "source": [
    "food.columns"
   ]
  },
  {
   "cell_type": "code",
   "execution_count": 11,
   "metadata": {},
   "outputs": [
    {
     "data": {
      "text/plain": [
       "RangeIndex(start=0, stop=4622, step=1)"
      ]
     },
     "execution_count": 11,
     "metadata": {},
     "output_type": "execute_result"
    }
   ],
   "source": [
    "food.index"
   ]
  },
  {
   "cell_type": "code",
   "execution_count": 12,
   "metadata": {},
   "outputs": [
    {
     "data": {
      "text/html": [
       "<div>\n",
       "<style scoped>\n",
       "    .dataframe tbody tr th:only-of-type {\n",
       "        vertical-align: middle;\n",
       "    }\n",
       "\n",
       "    .dataframe tbody tr th {\n",
       "        vertical-align: top;\n",
       "    }\n",
       "\n",
       "    .dataframe thead th {\n",
       "        text-align: right;\n",
       "    }\n",
       "</style>\n",
       "<table border=\"1\" class=\"dataframe\">\n",
       "  <thead>\n",
       "    <tr style=\"text-align: right;\">\n",
       "      <th></th>\n",
       "      <th>order_id</th>\n",
       "      <th>quantity</th>\n",
       "    </tr>\n",
       "  </thead>\n",
       "  <tbody>\n",
       "    <tr>\n",
       "      <th>count</th>\n",
       "      <td>4622.000000</td>\n",
       "      <td>4622.000000</td>\n",
       "    </tr>\n",
       "    <tr>\n",
       "      <th>mean</th>\n",
       "      <td>927.254868</td>\n",
       "      <td>1.075725</td>\n",
       "    </tr>\n",
       "    <tr>\n",
       "      <th>std</th>\n",
       "      <td>528.890796</td>\n",
       "      <td>0.410186</td>\n",
       "    </tr>\n",
       "    <tr>\n",
       "      <th>min</th>\n",
       "      <td>1.000000</td>\n",
       "      <td>1.000000</td>\n",
       "    </tr>\n",
       "    <tr>\n",
       "      <th>25%</th>\n",
       "      <td>477.250000</td>\n",
       "      <td>1.000000</td>\n",
       "    </tr>\n",
       "    <tr>\n",
       "      <th>50%</th>\n",
       "      <td>926.000000</td>\n",
       "      <td>1.000000</td>\n",
       "    </tr>\n",
       "    <tr>\n",
       "      <th>75%</th>\n",
       "      <td>1393.000000</td>\n",
       "      <td>1.000000</td>\n",
       "    </tr>\n",
       "    <tr>\n",
       "      <th>max</th>\n",
       "      <td>1834.000000</td>\n",
       "      <td>15.000000</td>\n",
       "    </tr>\n",
       "  </tbody>\n",
       "</table>\n",
       "</div>"
      ],
      "text/plain": [
       "          order_id     quantity\n",
       "count  4622.000000  4622.000000\n",
       "mean    927.254868     1.075725\n",
       "std     528.890796     0.410186\n",
       "min       1.000000     1.000000\n",
       "25%     477.250000     1.000000\n",
       "50%     926.000000     1.000000\n",
       "75%    1393.000000     1.000000\n",
       "max    1834.000000    15.000000"
      ]
     },
     "execution_count": 12,
     "metadata": {},
     "output_type": "execute_result"
    }
   ],
   "source": [
    "#데이터 전체 기본 통계로 요약\n",
    "food.describe() #모든 숫자타입을 가지는 피쳐에 대해 기본 통계를 보임."
   ]
  },
  {
   "cell_type": "code",
   "execution_count": 13,
   "metadata": {},
   "outputs": [
    {
     "data": {
      "text/plain": [
       "0    1\n",
       "1    1\n",
       "2    1\n",
       "3    1\n",
       "4    2\n",
       "Name: order_id, dtype: object"
      ]
     },
     "execution_count": 13,
     "metadata": {},
     "output_type": "execute_result"
    }
   ],
   "source": [
    "#시리즈의 멤버함수 astype(변경하고 싶은 타입명)\n",
    "food['order_id'] = food['order_id'].astype(str) \n",
    "food['order_id'].head()"
   ]
  },
  {
   "cell_type": "code",
   "execution_count": 14,
   "metadata": {},
   "outputs": [
    {
     "data": {
      "text/html": [
       "<div>\n",
       "<style scoped>\n",
       "    .dataframe tbody tr th:only-of-type {\n",
       "        vertical-align: middle;\n",
       "    }\n",
       "\n",
       "    .dataframe tbody tr th {\n",
       "        vertical-align: top;\n",
       "    }\n",
       "\n",
       "    .dataframe thead th {\n",
       "        text-align: right;\n",
       "    }\n",
       "</style>\n",
       "<table border=\"1\" class=\"dataframe\">\n",
       "  <thead>\n",
       "    <tr style=\"text-align: right;\">\n",
       "      <th></th>\n",
       "      <th>quantity</th>\n",
       "    </tr>\n",
       "  </thead>\n",
       "  <tbody>\n",
       "    <tr>\n",
       "      <th>count</th>\n",
       "      <td>4622.000000</td>\n",
       "    </tr>\n",
       "    <tr>\n",
       "      <th>mean</th>\n",
       "      <td>1.075725</td>\n",
       "    </tr>\n",
       "    <tr>\n",
       "      <th>std</th>\n",
       "      <td>0.410186</td>\n",
       "    </tr>\n",
       "    <tr>\n",
       "      <th>min</th>\n",
       "      <td>1.000000</td>\n",
       "    </tr>\n",
       "    <tr>\n",
       "      <th>25%</th>\n",
       "      <td>1.000000</td>\n",
       "    </tr>\n",
       "    <tr>\n",
       "      <th>50%</th>\n",
       "      <td>1.000000</td>\n",
       "    </tr>\n",
       "    <tr>\n",
       "      <th>75%</th>\n",
       "      <td>1.000000</td>\n",
       "    </tr>\n",
       "    <tr>\n",
       "      <th>max</th>\n",
       "      <td>15.000000</td>\n",
       "    </tr>\n",
       "  </tbody>\n",
       "</table>\n",
       "</div>"
      ],
      "text/plain": [
       "          quantity\n",
       "count  4622.000000\n",
       "mean      1.075725\n",
       "std       0.410186\n",
       "min       1.000000\n",
       "25%       1.000000\n",
       "50%       1.000000\n",
       "75%       1.000000\n",
       "max      15.000000"
      ]
     },
     "execution_count": 14,
     "metadata": {},
     "output_type": "execute_result"
    }
   ],
   "source": [
    "#데이터 전체 기본 통계로 요약\n",
    "food.describe()"
   ]
  },
  {
   "cell_type": "code",
   "execution_count": 15,
   "metadata": {},
   "outputs": [
    {
     "data": {
      "text/plain": [
       "50"
      ]
     },
     "execution_count": 15,
     "metadata": {},
     "output_type": "execute_result"
    }
   ],
   "source": [
    "# 메뉴가 무엇이 있었나?\n",
    "food['item_name'].unique()\n",
    "len(food['item_name'].unique())"
   ]
  },
  {
   "cell_type": "code",
   "execution_count": 16,
   "metadata": {},
   "outputs": [
    {
     "data": {
      "text/plain": [
       "1834"
      ]
     },
     "execution_count": 16,
     "metadata": {},
     "output_type": "execute_result"
    }
   ],
   "source": [
    "# 주문은 몇 개나 있었던 것일까?\n",
    "len(food['order_id'].unique())"
   ]
  },
  {
   "cell_type": "code",
   "execution_count": 17,
   "metadata": {},
   "outputs": [],
   "source": [
    "import numpy as np\n",
    "import matplotlib.pyplot as plt\n",
    "%matplotlib inline\n",
    "\n",
    "from matplotlib import font_manager, rc\n",
    "plt.rcParams['axes.unicode_minus'] = False\n",
    "\n",
    "#f_path = \"/Users/administrator/Library/Fonts/AppleGothic.ttf\"\n",
    "f_path = \"C:/Windows/Fonts/malgun.ttf\"\n",
    "font_name = font_manager.FontProperties(fname=f_path).get_name()\n",
    "rc('font', family=font_name)"
   ]
  },
  {
   "cell_type": "code",
   "execution_count": 18,
   "metadata": {},
   "outputs": [
    {
     "data": {
      "text/plain": [
       "item_name\n",
       "6 Pack Soft Drink                         55\n",
       "Barbacoa Bowl                             66\n",
       "Barbacoa Burrito                          91\n",
       "Barbacoa Crispy Tacos                     12\n",
       "Barbacoa Salad Bowl                       10\n",
       "Barbacoa Soft Tacos                       25\n",
       "Bottled Water                            211\n",
       "Bowl                                       4\n",
       "Burrito                                    6\n",
       "Canned Soda                              126\n",
       "Canned Soft Drink                        351\n",
       "Carnitas Bowl                             71\n",
       "Carnitas Burrito                          60\n",
       "Carnitas Crispy Tacos                      8\n",
       "Carnitas Salad                             1\n",
       "Carnitas Salad Bowl                        6\n",
       "Carnitas Soft Tacos                       40\n",
       "Chicken Bowl                             761\n",
       "Chicken Burrito                          591\n",
       "Chicken Crispy Tacos                      50\n",
       "Chicken Salad                              9\n",
       "Chicken Salad Bowl                       123\n",
       "Chicken Soft Tacos                       120\n",
       "Chips                                    230\n",
       "Chips and Fresh Tomato Salsa             130\n",
       "Chips and Guacamole                      506\n",
       "Chips and Mild Fresh Tomato Salsa          1\n",
       "Chips and Roasted Chili Corn Salsa        23\n",
       "Chips and Roasted Chili-Corn Salsa        18\n",
       "Chips and Tomatillo Green Chili Salsa     45\n",
       "Chips and Tomatillo Red Chili Salsa       50\n",
       "Chips and Tomatillo-Green Chili Salsa     33\n",
       "Chips and Tomatillo-Red Chili Salsa       25\n",
       "Crispy Tacos                               2\n",
       "Izze                                      20\n",
       "Nantucket Nectar                          29\n",
       "Salad                                      2\n",
       "Side of Chips                            110\n",
       "Steak Bowl                               221\n",
       "Steak Burrito                            386\n",
       "Steak Crispy Tacos                        36\n",
       "Steak Salad                                4\n",
       "Steak Salad Bowl                          31\n",
       "Steak Soft Tacos                          56\n",
       "Veggie Bowl                               87\n",
       "Veggie Burrito                            97\n",
       "Veggie Crispy Tacos                        1\n",
       "Veggie Salad                               6\n",
       "Veggie Salad Bowl                         18\n",
       "Veggie Soft Tacos                          8\n",
       "Name: quantity, dtype: int64"
      ]
     },
     "execution_count": 18,
     "metadata": {},
     "output_type": "execute_result"
    }
   ],
   "source": [
    "#그룹별로 묶어서 통계를 낼 수는 있으나, 정렬은 해주지 않음.\n",
    "food_name_gp = food.groupby('item_name')['quantity'].sum() \n",
    "food_name_gp"
   ]
  },
  {
   "cell_type": "code",
   "execution_count": 19,
   "metadata": {},
   "outputs": [
    {
     "data": {
      "text/plain": [
       "pandas.core.series.Series"
      ]
     },
     "execution_count": 19,
     "metadata": {},
     "output_type": "execute_result"
    }
   ],
   "source": [
    "type(food_name_gp)"
   ]
  },
  {
   "cell_type": "code",
   "execution_count": 20,
   "metadata": {
    "scrolled": true
   },
   "outputs": [
    {
     "data": {
      "text/plain": [
       "Chicken Bowl           726\n",
       "Chicken Burrito        553\n",
       "Chips and Guacamole    479\n",
       "Steak Burrito          368\n",
       "Canned Soft Drink      301\n",
       "Steak Bowl             211\n",
       "Chips                  211\n",
       "Bottled Water          162\n",
       "Chicken Soft Tacos     115\n",
       "Chicken Salad Bowl     110\n",
       "Name: item_name, dtype: int64"
      ]
     },
     "execution_count": 20,
     "metadata": {},
     "output_type": "execute_result"
    }
   ],
   "source": [
    "# 가장 많이 주문한 메뉴명 10개?\n",
    "item_count = food['item_name'].value_counts() #항목별 개수 + 내림차순\n",
    "item_count.head(10)"
   ]
  },
  {
   "cell_type": "code",
   "execution_count": 21,
   "metadata": {},
   "outputs": [
    {
     "data": {
      "text/plain": [
       "Chicken Bowl           726\n",
       "Chicken Burrito        553\n",
       "Chips and Guacamole    479\n",
       "Steak Burrito          368\n",
       "Canned Soft Drink      301\n",
       "Steak Bowl             211\n",
       "Chips                  211\n",
       "Bottled Water          162\n",
       "Chicken Soft Tacos     115\n",
       "Chicken Salad Bowl     110\n",
       "Name: item_name, dtype: int64"
      ]
     },
     "execution_count": 21,
     "metadata": {},
     "output_type": "execute_result"
    }
   ],
   "source": [
    "item_count = item_count[:10]\n",
    "item_count"
   ]
  },
  {
   "cell_type": "code",
   "execution_count": 22,
   "metadata": {},
   "outputs": [
    {
     "data": {
      "text/plain": [
       "pandas.core.series.Series"
      ]
     },
     "execution_count": 22,
     "metadata": {},
     "output_type": "execute_result"
    }
   ],
   "source": [
    "type(item_count)  #인덱스객체 + ndarray객체"
   ]
  },
  {
   "cell_type": "code",
   "execution_count": 23,
   "metadata": {},
   "outputs": [
    {
     "data": {
      "text/plain": [
       "Index(['Chicken Bowl', 'Chicken Burrito', 'Chips and Guacamole',\n",
       "       'Steak Burrito', 'Canned Soft Drink', 'Steak Bowl', 'Chips',\n",
       "       'Bottled Water', 'Chicken Soft Tacos', 'Chicken Salad Bowl'],\n",
       "      dtype='object')"
      ]
     },
     "execution_count": 23,
     "metadata": {},
     "output_type": "execute_result"
    }
   ],
   "source": [
    "item_count.index"
   ]
  },
  {
   "cell_type": "code",
   "execution_count": 24,
   "metadata": {},
   "outputs": [
    {
     "data": {
      "text/plain": [
       "array([726, 553, 479, 368, 301, 211, 211, 162, 115, 110], dtype=int64)"
      ]
     },
     "execution_count": 24,
     "metadata": {},
     "output_type": "execute_result"
    }
   ],
   "source": [
    "item_count.values"
   ]
  },
  {
   "cell_type": "code",
   "execution_count": 25,
   "metadata": {
    "scrolled": false
   },
   "outputs": [
    {
     "data": {
      "text/plain": [
       "<BarContainer object of 10 artists>"
      ]
     },
     "execution_count": 25,
     "metadata": {},
     "output_type": "execute_result"
    },
    {
     "data": {
      "image/png": "[encoded data removed]",
      "text/plain": [
       "<Figure size 1296x576 with 1 Axes>"
      ]
     },
     "metadata": {
      "needs_background": "light"
     },
     "output_type": "display_data"
    }
   ],
   "source": [
    "# 많이 팔린 item 10개를 막대 그래프로 그려보자.\n",
    "plt.figure(figsize=(18, 8))\n",
    "plt.bar(item_count.index, item_count.values) #plt.bar(x축값, y축값)"
   ]
  },
  {
   "cell_type": "code",
   "execution_count": 26,
   "metadata": {},
   "outputs": [
    {
     "data": {
      "text/plain": [
       "Chicken Bowl           726\n",
       "Chicken Burrito        553\n",
       "Chips and Guacamole    479\n",
       "Steak Burrito          368\n",
       "Canned Soft Drink      301\n",
       "Steak Bowl             211\n",
       "Chips                  211\n",
       "Bottled Water          162\n",
       "Chicken Soft Tacos     115\n",
       "Chicken Salad Bowl     110\n",
       "Name: item_name, dtype: int64"
      ]
     },
     "execution_count": 26,
     "metadata": {},
     "output_type": "execute_result"
    }
   ],
   "source": [
    "# 순위별로 프린트해보세요.\n",
    "# TOP 1: Chicken Bowl 726\n",
    "# item_count\n",
    "item_count"
   ]
  },
  {
   "cell_type": "code",
   "execution_count": 27,
   "metadata": {},
   "outputs": [
    {
     "name": "stdout",
     "output_type": "stream",
     "text": [
      "TOP  1 : Chicken Bowl \t 726\n",
      "TOP  2 : Chicken Burrito \t 553\n",
      "TOP  3 : Chips and Guacamole \t 479\n",
      "TOP  4 : Steak Burrito \t 368\n",
      "TOP  5 : Canned Soft Drink \t 301\n",
      "TOP  6 : Steak Bowl \t 211\n",
      "TOP  7 : Chips \t 211\n",
      "TOP  8 : Bottled Water \t 162\n",
      "TOP  9 : Chicken Soft Tacos \t 115\n",
      "TOP  10 : Chicken Salad Bowl \t 110\n"
     ]
    }
   ],
   "source": [
    "for i in range(len(item_count)):\n",
    "    print('TOP ', i + 1, ':', item_count.index[i], '\\t', item_count.values[i])"
   ]
  },
  {
   "cell_type": "code",
   "execution_count": 28,
   "metadata": {},
   "outputs": [
    {
     "name": "stdout",
     "output_type": "stream",
     "text": [
      "TOP 1  :  Chicken Bowl 726\n",
      "TOP 2  :  Chicken Burrito 553\n",
      "TOP 3  :  Chips and Guacamole 479\n",
      "TOP 4  :  Steak Burrito 368\n",
      "TOP 5  :  Canned Soft Drink 301\n",
      "TOP 6  :  Steak Bowl 211\n",
      "TOP 7  :  Chips 211\n",
      "TOP 8  :  Bottled Water 162\n",
      "TOP 9  :  Chicken Soft Tacos 115\n",
      "TOP 10  :  Chicken Salad Bowl 110\n"
     ]
    },
    {
     "data": {
      "text/plain": [
       "[None, None, None, None, None, None, None, None, None, None]"
      ]
     },
     "execution_count": 28,
     "metadata": {},
     "output_type": "execute_result"
    }
   ],
   "source": [
    "#lambda로 해결!(찬양씨!)\n",
    "list(map(lambda x : print(\"TOP\", x+1 ,\" : \", item_count.index[x], item_count[x]), range(10)))"
   ]
  },
  {
   "cell_type": "code",
   "execution_count": 29,
   "metadata": {},
   "outputs": [
    {
     "name": "stdout",
     "output_type": "stream",
     "text": [
      "0 : 100\n",
      "1 : 200\n",
      "2 : 300\n"
     ]
    }
   ],
   "source": [
    "# enumerate 반복문: index, 반복할 item을 둘 다 꺼내주고 싶을 때 사용\n",
    "data100 = [100, 200, 300]\n",
    "\n",
    "for i, item in enumerate(data100, 0): #0은 index의 start값\n",
    "    print(i, ':', item)"
   ]
  },
  {
   "cell_type": "code",
   "execution_count": 30,
   "metadata": {},
   "outputs": [
    {
     "data": {
      "text/plain": [
       "[726, 553, 479, 368, 301, 211, 211, 162, 115, 110]"
      ]
     },
     "execution_count": 30,
     "metadata": {},
     "output_type": "execute_result"
    }
   ],
   "source": [
    "# # 시리즈의 values만 꺼내오고 싶으면, 시리즈를 enumerate에 입력값으로 넣어주면 됨.\n",
    "# 시리즈를 tolist()하면 시리즈의 values만 리스트로 만들어진다.\n",
    "item_count.tolist()"
   ]
  },
  {
   "cell_type": "code",
   "execution_count": 31,
   "metadata": {},
   "outputs": [
    {
     "name": "stdout",
     "output_type": "stream",
     "text": [
      "TOP  1 : 726\n",
      "TOP  2 : 553\n",
      "TOP  3 : 479\n",
      "TOP  4 : 368\n",
      "TOP  5 : 301\n",
      "TOP  6 : 211\n",
      "TOP  7 : 211\n",
      "TOP  8 : 162\n",
      "TOP  9 : 115\n",
      "TOP  10 : 110\n"
     ]
    }
   ],
   "source": [
    "for i, item in enumerate(item_count.tolist(), 0): #0: index의 start값\n",
    "    print('TOP ', i + 1, ':', item) #values만 꺼내온다."
   ]
  },
  {
   "cell_type": "code",
   "execution_count": 32,
   "metadata": {},
   "outputs": [
    {
     "name": "stdout",
     "output_type": "stream",
     "text": [
      "TOP  1 : ('Chicken Bowl', 726)\n",
      "TOP  2 : ('Chicken Burrito', 553)\n",
      "TOP  3 : ('Chips and Guacamole', 479)\n",
      "TOP  4 : ('Steak Burrito', 368)\n",
      "TOP  5 : ('Canned Soft Drink', 301)\n",
      "TOP  6 : ('Steak Bowl', 211)\n",
      "TOP  7 : ('Chips', 211)\n",
      "TOP  8 : ('Bottled Water', 162)\n",
      "TOP  9 : ('Chicken Soft Tacos', 115)\n",
      "TOP  10 : ('Chicken Salad Bowl', 110)\n"
     ]
    }
   ],
   "source": [
    "# enumerate: 열거하다\n",
    "# Jquery의 $('list').each(): index랑 list의 항목을 하나씩 꺼내는 기능\n",
    "# item에는 시리즈의 index와 values를 tuple로 반복해서 꺼내온다.\n",
    "for i, item in enumerate(item_count.iteritems(), 0): #0: index의 start값\n",
    "    print('TOP ', i + 1, ':', item)"
   ]
  },
  {
   "cell_type": "code",
   "execution_count": 33,
   "metadata": {},
   "outputs": [
    {
     "name": "stdout",
     "output_type": "stream",
     "text": [
      "TOP  1 : Chicken Bowl 726\n",
      "TOP  2 : Chicken Burrito 553\n",
      "TOP  3 : Chips and Guacamole 479\n",
      "TOP  4 : Steak Burrito 368\n",
      "TOP  5 : Canned Soft Drink 301\n",
      "TOP  6 : Steak Bowl 211\n",
      "TOP  7 : Chips 211\n",
      "TOP  8 : Bottled Water 162\n",
      "TOP  9 : Chicken Soft Tacos 115\n",
      "TOP  10 : Chicken Salad Bowl 110\n"
     ]
    }
   ],
   "source": [
    "for i, item in enumerate(item_count.iteritems(), 0): #0: index의 start값\n",
    "    print('TOP ', i + 1, ':', item[0], item[1])"
   ]
  },
  {
   "cell_type": "code",
   "execution_count": 34,
   "metadata": {},
   "outputs": [],
   "source": [
    "#  주요 많이 팔린 TOP10까지의 메뉴별 주문 개수"
   ]
  },
  {
   "cell_type": "code",
   "execution_count": 35,
   "metadata": {},
   "outputs": [
    {
     "name": "stdout",
     "output_type": "stream",
     "text": [
      "TOP  1 : Chicken Bowl 726\n",
      "TOP  2 : Chicken Burrito 553\n",
      "TOP  3 : Chips and Guacamole 479\n",
      "TOP  4 : Steak Burrito 368\n",
      "TOP  5 : Canned Soft Drink 301\n",
      "TOP  6 : Steak Bowl 211\n",
      "TOP  7 : Chips 211\n",
      "TOP  8 : Bottled Water 162\n",
      "TOP  9 : Chicken Soft Tacos 115\n",
      "TOP  10 : Chicken Salad Bowl 110\n"
     ]
    }
   ],
   "source": [
    "for i, (index0, index1) in enumerate(item_count.iteritems(), 0): #0: index의 start값\n",
    "    print('TOP ', i + 1, ':', index0, index1)"
   ]
  },
  {
   "cell_type": "code",
   "execution_count": 36,
   "metadata": {},
   "outputs": [
    {
     "data": {
      "text/plain": [
       "'Chicken Bowl'"
      ]
     },
     "execution_count": 36,
     "metadata": {},
     "output_type": "execute_result"
    }
   ],
   "source": [
    "# 제일 많이 팔린 메뉴명\n",
    "item_count.index[0]"
   ]
  },
  {
   "cell_type": "code",
   "execution_count": 37,
   "metadata": {},
   "outputs": [
    {
     "data": {
      "text/plain": [
       "726"
      ]
     },
     "execution_count": 37,
     "metadata": {},
     "output_type": "execute_result"
    }
   ],
   "source": [
    "# 제일 많이 팔린 개수\n",
    "item_count.values[0]"
   ]
  },
  {
   "cell_type": "code",
   "execution_count": 38,
   "metadata": {},
   "outputs": [
    {
     "data": {
      "text/plain": [
       "item_name\n",
       "6 Pack Soft Drink                         54\n",
       "Barbacoa Bowl                             66\n",
       "Barbacoa Burrito                          91\n",
       "Barbacoa Crispy Tacos                     11\n",
       "Barbacoa Salad Bowl                       10\n",
       "Barbacoa Soft Tacos                       25\n",
       "Bottled Water                            162\n",
       "Bowl                                       2\n",
       "Burrito                                    6\n",
       "Canned Soda                              104\n",
       "Canned Soft Drink                        301\n",
       "Carnitas Bowl                             68\n",
       "Carnitas Burrito                          59\n",
       "Carnitas Crispy Tacos                      7\n",
       "Carnitas Salad                             1\n",
       "Carnitas Salad Bowl                        6\n",
       "Carnitas Soft Tacos                       40\n",
       "Chicken Bowl                             726\n",
       "Chicken Burrito                          553\n",
       "Chicken Crispy Tacos                      47\n",
       "Chicken Salad                              9\n",
       "Chicken Salad Bowl                       110\n",
       "Chicken Soft Tacos                       115\n",
       "Chips                                    211\n",
       "Chips and Fresh Tomato Salsa             110\n",
       "Chips and Guacamole                      479\n",
       "Chips and Mild Fresh Tomato Salsa          1\n",
       "Chips and Roasted Chili Corn Salsa        22\n",
       "Chips and Roasted Chili-Corn Salsa        18\n",
       "Chips and Tomatillo Green Chili Salsa     43\n",
       "Chips and Tomatillo Red Chili Salsa       48\n",
       "Chips and Tomatillo-Green Chili Salsa     31\n",
       "Chips and Tomatillo-Red Chili Salsa       20\n",
       "Crispy Tacos                               2\n",
       "Izze                                      20\n",
       "Nantucket Nectar                          27\n",
       "Salad                                      2\n",
       "Side of Chips                            101\n",
       "Steak Bowl                               211\n",
       "Steak Burrito                            368\n",
       "Steak Crispy Tacos                        35\n",
       "Steak Salad                                4\n",
       "Steak Salad Bowl                          29\n",
       "Steak Soft Tacos                          55\n",
       "Veggie Bowl                               85\n",
       "Veggie Burrito                            95\n",
       "Veggie Crispy Tacos                        1\n",
       "Veggie Salad                               6\n",
       "Veggie Salad Bowl                         18\n",
       "Veggie Soft Tacos                          7\n",
       "Name: order_id, dtype: int64"
      ]
     },
     "execution_count": 38,
     "metadata": {},
     "output_type": "execute_result"
    }
   ],
   "source": [
    "# item당 주문개수, 주문총량을 구해보세요.\n",
    "order_count2 = food.groupby('item_name')['order_id'].count()\n",
    "                #item_name의 값으로 그룹을 지어서, order_id만 count해보세요.\n",
    "order_count2"
   ]
  },
  {
   "cell_type": "code",
   "execution_count": 39,
   "metadata": {},
   "outputs": [
    {
     "data": {
      "text/plain": [
       "item_name\n",
       "6 Pack Soft Drink         55\n",
       "Barbacoa Bowl             66\n",
       "Barbacoa Burrito          91\n",
       "Barbacoa Crispy Tacos     12\n",
       "Barbacoa Salad Bowl       10\n",
       "Barbacoa Soft Tacos       25\n",
       "Bottled Water            211\n",
       "Bowl                       4\n",
       "Burrito                    6\n",
       "Canned Soda              126\n",
       "Name: quantity, dtype: int64"
      ]
     },
     "execution_count": 39,
     "metadata": {},
     "output_type": "execute_result"
    }
   ],
   "source": [
    "order_count3 = food.groupby('item_name')['quantity'].sum()\n",
    "                #item_name의 값으로 그룹을 지어서, 그룹별 quantity를 더해라.\n",
    "order_count3[:10]"
   ]
  },
  {
   "cell_type": "code",
   "execution_count": 40,
   "metadata": {},
   "outputs": [
    {
     "data": {
      "text/plain": [
       "4972"
      ]
     },
     "execution_count": 40,
     "metadata": {},
     "output_type": "execute_result"
    }
   ],
   "source": [
    "food['quantity'].sum()"
   ]
  },
  {
   "cell_type": "code",
   "execution_count": 41,
   "metadata": {},
   "outputs": [
    {
     "data": {
      "text/plain": [
       "Text(0, 0.5, '주문한 메뉴의 판매량')"
      ]
     },
     "execution_count": 41,
     "metadata": {},
     "output_type": "execute_result"
    },
    {
     "data": {
      "image/png": "[encoded data removed]",
      "text/plain": [
       "<Figure size 1296x576 with 1 Axes>"
      ]
     },
     "metadata": {
      "needs_background": "light"
     },
     "output_type": "display_data"
    }
   ],
   "source": [
    "# 50개를 그려봅시다.!\n",
    "\n",
    "# X축: 50개의 메뉴명 => 숫자를 부여하자.\n",
    "x2 = np.arange(50) #[0, 1, 2, ...]\n",
    "\n",
    "# Y축: 메뉴별 판매량\n",
    "y2 = order_count3.values\n",
    "\n",
    "plt.figure(figsize=(18, 8))\n",
    "plt.barh(x2, y2, color='springgreen')\n",
    "plt.title('모든 주문한 메뉴의 판매량')\n",
    "plt.xlabel('주문한 메뉴의 번호')\n",
    "plt.ylabel('주문한 메뉴의 판매량')"
   ]
  },
  {
   "cell_type": "code",
   "execution_count": 42,
   "metadata": {},
   "outputs": [
    {
     "data": {
      "text/plain": [
       "Text(0, 0.5, '주문한 메뉴의 판매량')"
      ]
     },
     "execution_count": 42,
     "metadata": {},
     "output_type": "execute_result"
    },
    {
     "data": {
      "image/png": "[encoded data removed]",
      "text/plain": [
       "<Figure size 1296x576 with 1 Axes>"
      ]
     },
     "metadata": {
      "needs_background": "light"
     },
     "output_type": "display_data"
    }
   ],
   "source": [
    "# 50개를 그려봅시다.!\n",
    "\n",
    "# X축: 50개의 메뉴명 => 숫자를 부여하자.\n",
    "x2 = np.arange(50) #[0, 1, 2, ...]\n",
    "\n",
    "# Y축: 메뉴별 판매량\n",
    "y2 = order_count3.values\n",
    "\n",
    "plt.figure(figsize=(18, 8))\n",
    "plt.bar(x2, y2, color='gold', edgecolor=\"gray\", linewidth=3)\n",
    "plt.title('모든 주문한 메뉴의 판매량')\n",
    "plt.xlabel('주문한 메뉴의 번호')\n",
    "plt.ylabel('주문한 메뉴의 판매량')"
   ]
  },
  {
   "cell_type": "code",
   "execution_count": 43,
   "metadata": {},
   "outputs": [
    {
     "data": {
      "text/plain": [
       "'Chicken Bowl'"
      ]
     },
     "execution_count": 43,
     "metadata": {},
     "output_type": "execute_result"
    }
   ],
   "source": [
    "order_count3.index[17]"
   ]
  },
  {
   "cell_type": "code",
   "execution_count": 44,
   "metadata": {},
   "outputs": [
    {
     "data": {
      "text/plain": [
       "'Chips and Mild Fresh Tomato Salsa'"
      ]
     },
     "execution_count": 44,
     "metadata": {},
     "output_type": "execute_result"
    }
   ],
   "source": [
    "order_count3.index[26]"
   ]
  },
  {
   "cell_type": "code",
   "execution_count": 45,
   "metadata": {},
   "outputs": [
    {
     "data": {
      "text/html": [
       "<div>\n",
       "<style scoped>\n",
       "    .dataframe tbody tr th:only-of-type {\n",
       "        vertical-align: middle;\n",
       "    }\n",
       "\n",
       "    .dataframe tbody tr th {\n",
       "        vertical-align: top;\n",
       "    }\n",
       "\n",
       "    .dataframe thead th {\n",
       "        text-align: right;\n",
       "    }\n",
       "</style>\n",
       "<table border=\"1\" class=\"dataframe\">\n",
       "  <thead>\n",
       "    <tr style=\"text-align: right;\">\n",
       "      <th></th>\n",
       "      <th>order_id</th>\n",
       "      <th>quantity</th>\n",
       "      <th>item_name</th>\n",
       "      <th>choice_description</th>\n",
       "      <th>item_price</th>\n",
       "    </tr>\n",
       "  </thead>\n",
       "  <tbody>\n",
       "    <tr>\n",
       "      <th>0</th>\n",
       "      <td>1</td>\n",
       "      <td>1</td>\n",
       "      <td>Chips and Fresh Tomato Salsa</td>\n",
       "      <td>NaN</td>\n",
       "      <td>$2.39</td>\n",
       "    </tr>\n",
       "    <tr>\n",
       "      <th>1</th>\n",
       "      <td>1</td>\n",
       "      <td>1</td>\n",
       "      <td>Izze</td>\n",
       "      <td>[Clementine]</td>\n",
       "      <td>$3.39</td>\n",
       "    </tr>\n",
       "    <tr>\n",
       "      <th>2</th>\n",
       "      <td>1</td>\n",
       "      <td>1</td>\n",
       "      <td>Nantucket Nectar</td>\n",
       "      <td>[Apple]</td>\n",
       "      <td>$3.39</td>\n",
       "    </tr>\n",
       "    <tr>\n",
       "      <th>3</th>\n",
       "      <td>1</td>\n",
       "      <td>1</td>\n",
       "      <td>Chips and Tomatillo-Green Chili Salsa</td>\n",
       "      <td>NaN</td>\n",
       "      <td>$2.39</td>\n",
       "    </tr>\n",
       "    <tr>\n",
       "      <th>4</th>\n",
       "      <td>2</td>\n",
       "      <td>2</td>\n",
       "      <td>Chicken Bowl</td>\n",
       "      <td>[Tomatillo-Red Chili Salsa (Hot), [Black Beans...</td>\n",
       "      <td>$16.98</td>\n",
       "    </tr>\n",
       "    <tr>\n",
       "      <th>...</th>\n",
       "      <td>...</td>\n",
       "      <td>...</td>\n",
       "      <td>...</td>\n",
       "      <td>...</td>\n",
       "      <td>...</td>\n",
       "    </tr>\n",
       "    <tr>\n",
       "      <th>4617</th>\n",
       "      <td>1833</td>\n",
       "      <td>1</td>\n",
       "      <td>Steak Burrito</td>\n",
       "      <td>[Fresh Tomato Salsa, [Rice, Black Beans, Sour ...</td>\n",
       "      <td>$11.75</td>\n",
       "    </tr>\n",
       "    <tr>\n",
       "      <th>4618</th>\n",
       "      <td>1833</td>\n",
       "      <td>1</td>\n",
       "      <td>Steak Burrito</td>\n",
       "      <td>[Fresh Tomato Salsa, [Rice, Sour Cream, Cheese...</td>\n",
       "      <td>$11.75</td>\n",
       "    </tr>\n",
       "    <tr>\n",
       "      <th>4619</th>\n",
       "      <td>1834</td>\n",
       "      <td>1</td>\n",
       "      <td>Chicken Salad Bowl</td>\n",
       "      <td>[Fresh Tomato Salsa, [Fajita Vegetables, Pinto...</td>\n",
       "      <td>$11.25</td>\n",
       "    </tr>\n",
       "    <tr>\n",
       "      <th>4620</th>\n",
       "      <td>1834</td>\n",
       "      <td>1</td>\n",
       "      <td>Chicken Salad Bowl</td>\n",
       "      <td>[Fresh Tomato Salsa, [Fajita Vegetables, Lettu...</td>\n",
       "      <td>$8.75</td>\n",
       "    </tr>\n",
       "    <tr>\n",
       "      <th>4621</th>\n",
       "      <td>1834</td>\n",
       "      <td>1</td>\n",
       "      <td>Chicken Salad Bowl</td>\n",
       "      <td>[Fresh Tomato Salsa, [Fajita Vegetables, Pinto...</td>\n",
       "      <td>$8.75</td>\n",
       "    </tr>\n",
       "  </tbody>\n",
       "</table>\n",
       "<p>4622 rows × 5 columns</p>\n",
       "</div>"
      ],
      "text/plain": [
       "     order_id  quantity                              item_name  \\\n",
       "0           1         1           Chips and Fresh Tomato Salsa   \n",
       "1           1         1                                   Izze   \n",
       "2           1         1                       Nantucket Nectar   \n",
       "3           1         1  Chips and Tomatillo-Green Chili Salsa   \n",
       "4           2         2                           Chicken Bowl   \n",
       "...       ...       ...                                    ...   \n",
       "4617     1833         1                          Steak Burrito   \n",
       "4618     1833         1                          Steak Burrito   \n",
       "4619     1834         1                     Chicken Salad Bowl   \n",
       "4620     1834         1                     Chicken Salad Bowl   \n",
       "4621     1834         1                     Chicken Salad Bowl   \n",
       "\n",
       "                                     choice_description item_price  \n",
       "0                                                   NaN     $2.39   \n",
       "1                                          [Clementine]     $3.39   \n",
       "2                                               [Apple]     $3.39   \n",
       "3                                                   NaN     $2.39   \n",
       "4     [Tomatillo-Red Chili Salsa (Hot), [Black Beans...    $16.98   \n",
       "...                                                 ...        ...  \n",
       "4617  [Fresh Tomato Salsa, [Rice, Black Beans, Sour ...    $11.75   \n",
       "4618  [Fresh Tomato Salsa, [Rice, Sour Cream, Cheese...    $11.75   \n",
       "4619  [Fresh Tomato Salsa, [Fajita Vegetables, Pinto...    $11.25   \n",
       "4620  [Fresh Tomato Salsa, [Fajita Vegetables, Lettu...     $8.75   \n",
       "4621  [Fresh Tomato Salsa, [Fajita Vegetables, Pinto...     $8.75   \n",
       "\n",
       "[4622 rows x 5 columns]"
      ]
     },
     "execution_count": 45,
     "metadata": {},
     "output_type": "execute_result"
    }
   ],
   "source": [
    "food"
   ]
  },
  {
   "cell_type": "code",
   "execution_count": 46,
   "metadata": {},
   "outputs": [
    {
     "data": {
      "text/plain": [
       "dtype('O')"
      ]
     },
     "execution_count": 46,
     "metadata": {},
     "output_type": "execute_result"
    }
   ],
   "source": [
    "food['item_price'].dtype #시리즈에 들어있는 인스턴스의 타입"
   ]
  },
  {
   "cell_type": "code",
   "execution_count": 47,
   "metadata": {},
   "outputs": [
    {
     "data": {
      "text/plain": [
       "dtype('int64')"
      ]
     },
     "execution_count": 47,
     "metadata": {},
     "output_type": "execute_result"
    }
   ],
   "source": [
    "food['quantity'].dtype"
   ]
  },
  {
   "cell_type": "code",
   "execution_count": 48,
   "metadata": {},
   "outputs": [
    {
     "data": {
      "text/plain": [
       "pandas.core.series.Series"
      ]
     },
     "execution_count": 48,
     "metadata": {},
     "output_type": "execute_result"
    }
   ],
   "source": [
    "type(food['item_price']) #열에 대한 타입"
   ]
  },
  {
   "cell_type": "code",
   "execution_count": 49,
   "metadata": {},
   "outputs": [
    {
     "data": {
      "text/plain": [
       "order_id              object\n",
       "quantity               int64\n",
       "item_name             object\n",
       "choice_description    object\n",
       "item_price            object\n",
       "dtype: object"
      ]
     },
     "execution_count": 49,
     "metadata": {},
     "output_type": "execute_result"
    }
   ],
   "source": [
    "food.dtypes"
   ]
  },
  {
   "cell_type": "code",
   "execution_count": 50,
   "metadata": {},
   "outputs": [
    {
     "data": {
      "text/plain": [
       "0     $2.39 \n",
       "1     $3.39 \n",
       "2     $3.39 \n",
       "3     $2.39 \n",
       "4    $16.98 \n",
       "Name: item_price, dtype: object"
      ]
     },
     "execution_count": 50,
     "metadata": {},
     "output_type": "execute_result"
    }
   ],
   "source": [
    "food['item_price'][:5]"
   ]
  },
  {
   "cell_type": "code",
   "execution_count": 51,
   "metadata": {},
   "outputs": [],
   "source": [
    "#타입변경 방법, 시리즈명.astype(), float()함수 이용"
   ]
  },
  {
   "cell_type": "code",
   "execution_count": 52,
   "metadata": {},
   "outputs": [
    {
     "data": {
      "text/plain": [
       "'$16.98 '"
      ]
     },
     "execution_count": 52,
     "metadata": {},
     "output_type": "execute_result"
    }
   ],
   "source": [
    "food['item_price'][4]"
   ]
  },
  {
   "cell_type": "code",
   "execution_count": 53,
   "metadata": {},
   "outputs": [
    {
     "data": {
      "text/plain": [
       "str"
      ]
     },
     "execution_count": 53,
     "metadata": {},
     "output_type": "execute_result"
    }
   ],
   "source": [
    "type(food['item_price'][4])"
   ]
  },
  {
   "cell_type": "code",
   "execution_count": 54,
   "metadata": {},
   "outputs": [
    {
     "data": {
      "text/plain": [
       "'16.98 '"
      ]
     },
     "execution_count": 54,
     "metadata": {},
     "output_type": "execute_result"
    }
   ],
   "source": [
    "food['item_price'][4][1:]"
   ]
  },
  {
   "cell_type": "code",
   "execution_count": 55,
   "metadata": {},
   "outputs": [
    {
     "data": {
      "text/plain": [
       "16.98"
      ]
     },
     "execution_count": 55,
     "metadata": {},
     "output_type": "execute_result"
    }
   ],
   "source": [
    "float(food['item_price'][4][1:])"
   ]
  },
  {
   "cell_type": "code",
   "execution_count": 56,
   "metadata": {},
   "outputs": [],
   "source": [
    "#시리즈의 모든 행에 있는 string을 추출해서 $을 빼야한다.(인덱싱을 사용하기로 함.)\n",
    "#시리즈를 모두 변경하기 위해서는 for문 있어야함.\n",
    "#float()함수는 비파괴 =>>> float() 캐스팅한 결과를 리스트에 모아놓았다가,\n",
    "#반복문이 모든 끝나면 리스트에 모아놓은 데이터를 df의 컬럼에 다시 집어넣는다."
   ]
  },
  {
   "cell_type": "code",
   "execution_count": 57,
   "metadata": {},
   "outputs": [
    {
     "data": {
      "text/plain": [
       "[2.39, 3.39, 3.39, 2.39, 16.98, 10.98, 1.69, 11.75, 9.25, 9.25]"
      ]
     },
     "execution_count": 57,
     "metadata": {},
     "output_type": "execute_result"
    }
   ],
   "source": [
    "result = []\n",
    "for price in food['item_price']:\n",
    "        result.append(float(price[1:]))\n",
    "result[:10]"
   ]
  },
  {
   "cell_type": "code",
   "execution_count": 58,
   "metadata": {},
   "outputs": [],
   "source": [
    "food['item_price'] = result"
   ]
  },
  {
   "cell_type": "code",
   "execution_count": 59,
   "metadata": {},
   "outputs": [
    {
     "data": {
      "text/plain": [
       "0     2.39\n",
       "1     3.39\n",
       "2     3.39\n",
       "3     2.39\n",
       "4    16.98\n",
       "5    10.98\n",
       "6     1.69\n",
       "7    11.75\n",
       "8     9.25\n",
       "9     9.25\n",
       "Name: item_price, dtype: float64"
      ]
     },
     "execution_count": 59,
     "metadata": {},
     "output_type": "execute_result"
    }
   ],
   "source": [
    "food['item_price'][:10]"
   ]
  },
  {
   "cell_type": "code",
   "execution_count": 60,
   "metadata": {},
   "outputs": [
    {
     "data": {
      "text/plain": [
       "dtype('float64')"
      ]
     },
     "execution_count": 60,
     "metadata": {},
     "output_type": "execute_result"
    }
   ],
   "source": [
    "food['item_price'][:10].dtype"
   ]
  },
  {
   "cell_type": "code",
   "execution_count": 61,
   "metadata": {},
   "outputs": [
    {
     "data": {
      "text/html": [
       "<div>\n",
       "<style scoped>\n",
       "    .dataframe tbody tr th:only-of-type {\n",
       "        vertical-align: middle;\n",
       "    }\n",
       "\n",
       "    .dataframe tbody tr th {\n",
       "        vertical-align: top;\n",
       "    }\n",
       "\n",
       "    .dataframe thead th {\n",
       "        text-align: right;\n",
       "    }\n",
       "</style>\n",
       "<table border=\"1\" class=\"dataframe\">\n",
       "  <thead>\n",
       "    <tr style=\"text-align: right;\">\n",
       "      <th></th>\n",
       "      <th>quantity</th>\n",
       "      <th>item_price</th>\n",
       "    </tr>\n",
       "  </thead>\n",
       "  <tbody>\n",
       "    <tr>\n",
       "      <th>count</th>\n",
       "      <td>4622.000000</td>\n",
       "      <td>4622.000000</td>\n",
       "    </tr>\n",
       "    <tr>\n",
       "      <th>mean</th>\n",
       "      <td>1.075725</td>\n",
       "      <td>7.464336</td>\n",
       "    </tr>\n",
       "    <tr>\n",
       "      <th>std</th>\n",
       "      <td>0.410186</td>\n",
       "      <td>4.245557</td>\n",
       "    </tr>\n",
       "    <tr>\n",
       "      <th>min</th>\n",
       "      <td>1.000000</td>\n",
       "      <td>1.090000</td>\n",
       "    </tr>\n",
       "    <tr>\n",
       "      <th>25%</th>\n",
       "      <td>1.000000</td>\n",
       "      <td>3.390000</td>\n",
       "    </tr>\n",
       "    <tr>\n",
       "      <th>50%</th>\n",
       "      <td>1.000000</td>\n",
       "      <td>8.750000</td>\n",
       "    </tr>\n",
       "    <tr>\n",
       "      <th>75%</th>\n",
       "      <td>1.000000</td>\n",
       "      <td>9.250000</td>\n",
       "    </tr>\n",
       "    <tr>\n",
       "      <th>max</th>\n",
       "      <td>15.000000</td>\n",
       "      <td>44.250000</td>\n",
       "    </tr>\n",
       "  </tbody>\n",
       "</table>\n",
       "</div>"
      ],
      "text/plain": [
       "          quantity   item_price\n",
       "count  4622.000000  4622.000000\n",
       "mean      1.075725     7.464336\n",
       "std       0.410186     4.245557\n",
       "min       1.000000     1.090000\n",
       "25%       1.000000     3.390000\n",
       "50%       1.000000     8.750000\n",
       "75%       1.000000     9.250000\n",
       "max      15.000000    44.250000"
      ]
     },
     "execution_count": 61,
     "metadata": {},
     "output_type": "execute_result"
    }
   ],
   "source": [
    "food.describe() #피쳐들 중에서 숫자타입을 가지는 시리즈의 기본 통계"
   ]
  },
  {
   "cell_type": "markdown",
   "metadata": {},
   "source": [
    "------------------------------------------------------------------\n",
    "### <Step4. 탐색적 분석> : 스무고개로 분석하는 개념적 탐색\n",
    "* 데이터를 이해하기 위한 조금 더 복잡한 질문들로 탐색적 데이터 분석 연습하기\n",
    "* 주문당 평균 계산금액 출력하기\n",
    "* 한 주문에 10달러 이상 사용한 주문의 id들 출력하기\n",
    "* 각 아이템의 가격 구하기\n",
    "* 가장 비싼 주문에서 item이 몇개 팔렸는지 구하기\n",
    "* \"Veggie Salad Bowl\"이 몇 번 주문되었는지 구하기\n",
    "* \"Chicken Bowl\"을 2개 이상 주문한 주문 횟수 구하기\n",
    "------------------------------------------------------------------"
   ]
  },
  {
   "cell_type": "markdown",
   "metadata": {},
   "source": [
    "## 주문당 평균 계산금액 출력하기"
   ]
  },
  {
   "cell_type": "code",
   "execution_count": 62,
   "metadata": {},
   "outputs": [
    {
     "data": {
      "text/plain": [
       "order_id\n",
       "1        2.890000\n",
       "10       6.600000\n",
       "100      5.040000\n",
       "1000    10.250000\n",
       "1001     5.040000\n",
       "          ...    \n",
       "995      8.316667\n",
       "996     10.750000\n",
       "997     22.500000\n",
       "998      5.440000\n",
       "999      7.312500\n",
       "Name: item_price, Length: 1834, dtype: float64"
      ]
     },
     "execution_count": 62,
     "metadata": {},
     "output_type": "execute_result"
    }
   ],
   "source": [
    "# order_id 기준으로 item_price 그룹화\n",
    "food_avg = food.groupby('order_id')['item_price'].mean()\n",
    "food_avg"
   ]
  },
  {
   "cell_type": "markdown",
   "metadata": {},
   "source": [
    "## 한 주문에 10달러 이상 사용한 주문의 id들 출력하기"
   ]
  },
  {
   "cell_type": "code",
   "execution_count": 63,
   "metadata": {},
   "outputs": [
    {
     "data": {
      "text/plain": [
       "0        2.39\n",
       "1        3.39\n",
       "2        3.39\n",
       "3        2.39\n",
       "4       16.98\n",
       "        ...  \n",
       "4617    11.75\n",
       "4618    11.75\n",
       "4619    11.25\n",
       "4620     8.75\n",
       "4621     8.75\n",
       "Name: item_price, Length: 4622, dtype: float64"
      ]
     },
     "execution_count": 63,
     "metadata": {},
     "output_type": "execute_result"
    }
   ],
   "source": [
    "food['item_price']"
   ]
  },
  {
   "cell_type": "code",
   "execution_count": 64,
   "metadata": {},
   "outputs": [
    {
     "data": {
      "text/html": [
       "<div>\n",
       "<style scoped>\n",
       "    .dataframe tbody tr th:only-of-type {\n",
       "        vertical-align: middle;\n",
       "    }\n",
       "\n",
       "    .dataframe tbody tr th {\n",
       "        vertical-align: top;\n",
       "    }\n",
       "\n",
       "    .dataframe thead th {\n",
       "        text-align: right;\n",
       "    }\n",
       "</style>\n",
       "<table border=\"1\" class=\"dataframe\">\n",
       "  <thead>\n",
       "    <tr style=\"text-align: right;\">\n",
       "      <th></th>\n",
       "      <th>order_id</th>\n",
       "      <th>quantity</th>\n",
       "      <th>item_name</th>\n",
       "      <th>choice_description</th>\n",
       "      <th>item_price</th>\n",
       "    </tr>\n",
       "  </thead>\n",
       "  <tbody>\n",
       "    <tr>\n",
       "      <th>4</th>\n",
       "      <td>2</td>\n",
       "      <td>2</td>\n",
       "      <td>Chicken Bowl</td>\n",
       "      <td>[Tomatillo-Red Chili Salsa (Hot), [Black Beans...</td>\n",
       "      <td>16.98</td>\n",
       "    </tr>\n",
       "    <tr>\n",
       "      <th>5</th>\n",
       "      <td>3</td>\n",
       "      <td>1</td>\n",
       "      <td>Chicken Bowl</td>\n",
       "      <td>[Fresh Tomato Salsa (Mild), [Rice, Cheese, Sou...</td>\n",
       "      <td>10.98</td>\n",
       "    </tr>\n",
       "    <tr>\n",
       "      <th>7</th>\n",
       "      <td>4</td>\n",
       "      <td>1</td>\n",
       "      <td>Steak Burrito</td>\n",
       "      <td>[Tomatillo Red Chili Salsa, [Fajita Vegetables...</td>\n",
       "      <td>11.75</td>\n",
       "    </tr>\n",
       "    <tr>\n",
       "      <th>13</th>\n",
       "      <td>7</td>\n",
       "      <td>1</td>\n",
       "      <td>Chicken Bowl</td>\n",
       "      <td>[Fresh Tomato Salsa, [Fajita Vegetables, Rice,...</td>\n",
       "      <td>11.25</td>\n",
       "    </tr>\n",
       "    <tr>\n",
       "      <th>23</th>\n",
       "      <td>12</td>\n",
       "      <td>1</td>\n",
       "      <td>Chicken Burrito</td>\n",
       "      <td>[[Tomatillo-Green Chili Salsa (Medium), Tomati...</td>\n",
       "      <td>10.98</td>\n",
       "    </tr>\n",
       "    <tr>\n",
       "      <th>...</th>\n",
       "      <td>...</td>\n",
       "      <td>...</td>\n",
       "      <td>...</td>\n",
       "      <td>...</td>\n",
       "      <td>...</td>\n",
       "    </tr>\n",
       "    <tr>\n",
       "      <th>4610</th>\n",
       "      <td>1830</td>\n",
       "      <td>1</td>\n",
       "      <td>Steak Burrito</td>\n",
       "      <td>[Fresh Tomato Salsa, [Rice, Sour Cream, Cheese...</td>\n",
       "      <td>11.75</td>\n",
       "    </tr>\n",
       "    <tr>\n",
       "      <th>4611</th>\n",
       "      <td>1830</td>\n",
       "      <td>1</td>\n",
       "      <td>Veggie Burrito</td>\n",
       "      <td>[Tomatillo Green Chili Salsa, [Rice, Fajita Ve...</td>\n",
       "      <td>11.25</td>\n",
       "    </tr>\n",
       "    <tr>\n",
       "      <th>4617</th>\n",
       "      <td>1833</td>\n",
       "      <td>1</td>\n",
       "      <td>Steak Burrito</td>\n",
       "      <td>[Fresh Tomato Salsa, [Rice, Black Beans, Sour ...</td>\n",
       "      <td>11.75</td>\n",
       "    </tr>\n",
       "    <tr>\n",
       "      <th>4618</th>\n",
       "      <td>1833</td>\n",
       "      <td>1</td>\n",
       "      <td>Steak Burrito</td>\n",
       "      <td>[Fresh Tomato Salsa, [Rice, Sour Cream, Cheese...</td>\n",
       "      <td>11.75</td>\n",
       "    </tr>\n",
       "    <tr>\n",
       "      <th>4619</th>\n",
       "      <td>1834</td>\n",
       "      <td>1</td>\n",
       "      <td>Chicken Salad Bowl</td>\n",
       "      <td>[Fresh Tomato Salsa, [Fajita Vegetables, Pinto...</td>\n",
       "      <td>11.25</td>\n",
       "    </tr>\n",
       "  </tbody>\n",
       "</table>\n",
       "<p>1130 rows × 5 columns</p>\n",
       "</div>"
      ],
      "text/plain": [
       "     order_id  quantity           item_name  \\\n",
       "4           2         2        Chicken Bowl   \n",
       "5           3         1        Chicken Bowl   \n",
       "7           4         1       Steak Burrito   \n",
       "13          7         1        Chicken Bowl   \n",
       "23         12         1     Chicken Burrito   \n",
       "...       ...       ...                 ...   \n",
       "4610     1830         1       Steak Burrito   \n",
       "4611     1830         1      Veggie Burrito   \n",
       "4617     1833         1       Steak Burrito   \n",
       "4618     1833         1       Steak Burrito   \n",
       "4619     1834         1  Chicken Salad Bowl   \n",
       "\n",
       "                                     choice_description  item_price  \n",
       "4     [Tomatillo-Red Chili Salsa (Hot), [Black Beans...       16.98  \n",
       "5     [Fresh Tomato Salsa (Mild), [Rice, Cheese, Sou...       10.98  \n",
       "7     [Tomatillo Red Chili Salsa, [Fajita Vegetables...       11.75  \n",
       "13    [Fresh Tomato Salsa, [Fajita Vegetables, Rice,...       11.25  \n",
       "23    [[Tomatillo-Green Chili Salsa (Medium), Tomati...       10.98  \n",
       "...                                                 ...         ...  \n",
       "4610  [Fresh Tomato Salsa, [Rice, Sour Cream, Cheese...       11.75  \n",
       "4611  [Tomatillo Green Chili Salsa, [Rice, Fajita Ve...       11.25  \n",
       "4617  [Fresh Tomato Salsa, [Rice, Black Beans, Sour ...       11.75  \n",
       "4618  [Fresh Tomato Salsa, [Rice, Sour Cream, Cheese...       11.75  \n",
       "4619  [Fresh Tomato Salsa, [Fajita Vegetables, Pinto...       11.25  \n",
       "\n",
       "[1130 rows x 5 columns]"
      ]
     },
     "execution_count": 64,
     "metadata": {},
     "output_type": "execute_result"
    }
   ],
   "source": [
    "#item_price가 10달러 이상인 것을 출력\n",
    "food_ten = food[food['item_price'] > 10.0 ]\n",
    "food_ten"
   ]
  },
  {
   "cell_type": "markdown",
   "metadata": {},
   "source": [
    "## 각 아이템의 가격 구하기"
   ]
  },
  {
   "cell_type": "code",
   "execution_count": 65,
   "metadata": {},
   "outputs": [
    {
     "name": "stdout",
     "output_type": "stream",
     "text": [
      "item_name\n",
      "6 Pack Soft Drink                        6.49\n",
      "Barbacoa Bowl                            8.69\n",
      "Barbacoa Burrito                         8.69\n",
      "Barbacoa Crispy Tacos                    8.99\n",
      "Barbacoa Salad Bowl                      9.39\n",
      "Barbacoa Soft Tacos                      8.99\n",
      "Bottled Water                            1.09\n",
      "Bowl                                     7.40\n",
      "Burrito                                  7.40\n",
      "Canned Soda                              1.09\n",
      "Canned Soft Drink                        1.25\n",
      "Carnitas Bowl                            8.99\n",
      "Carnitas Burrito                         8.69\n",
      "Carnitas Crispy Tacos                    8.99\n",
      "Carnitas Salad                           8.99\n",
      "Carnitas Salad Bowl                      9.39\n",
      "Carnitas Soft Tacos                      8.99\n",
      "Chicken Bowl                             8.19\n",
      "Chicken Burrito                          8.19\n",
      "Chicken Crispy Tacos                     8.49\n",
      "Chicken Salad                            8.19\n",
      "Chicken Salad Bowl                       8.75\n",
      "Chicken Soft Tacos                       8.49\n",
      "Chips                                    1.99\n",
      "Chips and Fresh Tomato Salsa             2.29\n",
      "Chips and Guacamole                      3.89\n",
      "Chips and Mild Fresh Tomato Salsa        3.00\n",
      "Chips and Roasted Chili Corn Salsa       2.95\n",
      "Chips and Roasted Chili-Corn Salsa       2.39\n",
      "Chips and Tomatillo Green Chili Salsa    2.95\n",
      "Chips and Tomatillo Red Chili Salsa      2.95\n",
      "Chips and Tomatillo-Green Chili Salsa    2.39\n",
      "Chips and Tomatillo-Red Chili Salsa      2.39\n",
      "Crispy Tacos                             7.40\n",
      "Izze                                     3.39\n",
      "Nantucket Nectar                         3.39\n",
      "Salad                                    7.40\n",
      "Side of Chips                            1.69\n",
      "Steak Bowl                               8.69\n",
      "Steak Burrito                            8.69\n",
      "Steak Crispy Tacos                       8.69\n",
      "Steak Salad                              8.69\n",
      "Steak Salad Bowl                         9.39\n",
      "Steak Soft Tacos                         8.99\n",
      "Veggie Bowl                              8.49\n",
      "Veggie Burrito                           8.49\n",
      "Veggie Crispy Tacos                      8.49\n",
      "Veggie Salad                             8.49\n",
      "Veggie Salad Bowl                        8.75\n",
      "Veggie Soft Tacos                        8.49\n",
      "Name: item_price, dtype: float64\n"
     ]
    }
   ],
   "source": [
    "# item_name 기준으로 item_price 그룹화해서 최소값 출력\n",
    "foodpc = food.groupby('item_name')['item_price'].min()\n",
    "print(foodpc[0:])"
   ]
  },
  {
   "cell_type": "markdown",
   "metadata": {},
   "source": [
    "## 가장 비싼 주문에서 item이 몇개 팔렸는지 구하기"
   ]
  },
  {
   "cell_type": "code",
   "execution_count": 66,
   "metadata": {},
   "outputs": [
    {
     "data": {
      "text/html": [
       "<div>\n",
       "<style scoped>\n",
       "    .dataframe tbody tr th:only-of-type {\n",
       "        vertical-align: middle;\n",
       "    }\n",
       "\n",
       "    .dataframe tbody tr th {\n",
       "        vertical-align: top;\n",
       "    }\n",
       "\n",
       "    .dataframe thead th {\n",
       "        text-align: right;\n",
       "    }\n",
       "</style>\n",
       "<table border=\"1\" class=\"dataframe\">\n",
       "  <thead>\n",
       "    <tr style=\"text-align: right;\">\n",
       "      <th></th>\n",
       "      <th>quantity</th>\n",
       "      <th>item_price</th>\n",
       "    </tr>\n",
       "  </thead>\n",
       "  <tbody>\n",
       "    <tr>\n",
       "      <th>count</th>\n",
       "      <td>4622.000000</td>\n",
       "      <td>4622.000000</td>\n",
       "    </tr>\n",
       "    <tr>\n",
       "      <th>mean</th>\n",
       "      <td>1.075725</td>\n",
       "      <td>7.464336</td>\n",
       "    </tr>\n",
       "    <tr>\n",
       "      <th>std</th>\n",
       "      <td>0.410186</td>\n",
       "      <td>4.245557</td>\n",
       "    </tr>\n",
       "    <tr>\n",
       "      <th>min</th>\n",
       "      <td>1.000000</td>\n",
       "      <td>1.090000</td>\n",
       "    </tr>\n",
       "    <tr>\n",
       "      <th>25%</th>\n",
       "      <td>1.000000</td>\n",
       "      <td>3.390000</td>\n",
       "    </tr>\n",
       "    <tr>\n",
       "      <th>50%</th>\n",
       "      <td>1.000000</td>\n",
       "      <td>8.750000</td>\n",
       "    </tr>\n",
       "    <tr>\n",
       "      <th>75%</th>\n",
       "      <td>1.000000</td>\n",
       "      <td>9.250000</td>\n",
       "    </tr>\n",
       "    <tr>\n",
       "      <th>max</th>\n",
       "      <td>15.000000</td>\n",
       "      <td>44.250000</td>\n",
       "    </tr>\n",
       "  </tbody>\n",
       "</table>\n",
       "</div>"
      ],
      "text/plain": [
       "          quantity   item_price\n",
       "count  4622.000000  4622.000000\n",
       "mean      1.075725     7.464336\n",
       "std       0.410186     4.245557\n",
       "min       1.000000     1.090000\n",
       "25%       1.000000     3.390000\n",
       "50%       1.000000     8.750000\n",
       "75%       1.000000     9.250000\n",
       "max      15.000000    44.250000"
      ]
     },
     "execution_count": 66,
     "metadata": {},
     "output_type": "execute_result"
    }
   ],
   "source": [
    "# 통계확인 descirbe 함수사용\n",
    "food.describe()"
   ]
  },
  {
   "cell_type": "code",
   "execution_count": 67,
   "metadata": {},
   "outputs": [
    {
     "data": {
      "text/plain": [
       "3598    15\n",
       "Name: quantity, dtype: int64"
      ]
     },
     "execution_count": 67,
     "metadata": {},
     "output_type": "execute_result"
    }
   ],
   "source": [
    "# item_price가 max인 44.250000 을 찾아서 quantity 항목 출력\n",
    "food[food['item_price']==44.250000]['quantity']"
   ]
  },
  {
   "cell_type": "markdown",
   "metadata": {},
   "source": [
    "## \"Veggie Salad Bowl\"이 몇 번 주문되었는지 구하기"
   ]
  },
  {
   "cell_type": "code",
   "execution_count": 68,
   "metadata": {},
   "outputs": [
    {
     "name": "stdout",
     "output_type": "stream",
     "text": [
      "18 번\n"
     ]
    }
   ],
   "source": [
    "# item_name 에 Vaggie Salad Bowl 라는 데이터를 찾아서 출력\n",
    "# 데이터가 몇번들어갔는지 len 을 사용\n",
    "orderone = len(food[food['item_name'] == \"Veggie Salad Bowl\"])\n",
    "print(orderone, '번')"
   ]
  },
  {
   "cell_type": "markdown",
   "metadata": {},
   "source": [
    "## \"Chicken Bowl\"을 2개 이상 주문한 주문 횟수 구하기"
   ]
  },
  {
   "cell_type": "code",
   "execution_count": 193,
   "metadata": {},
   "outputs": [
    {
     "name": "stdout",
     "output_type": "stream",
     "text": [
      "33 번\n"
     ]
    },
    {
     "name": "stderr",
     "output_type": "stream",
     "text": [
      "<ipython-input-193-92baa271186e>:1: UserWarning: Boolean Series key will be reindexed to match DataFrame index.\n",
      "  chickenbowlfood = len(food[food['item_name'] == \"Chicken Bowl\"][food['quantity'] >= 2])\n"
     ]
    }
   ],
   "source": [
    "# item_name 에 Chicken Bowl 라는 데이터를 찾고, 2개이상 주문한것을 출력\n",
    "# 데이터가 몇번들어갔는지 len 을 사용\n",
    "chickenbowlfood = len(food[food['item_name'] == \"Chicken Bowl\"][food['quantity'] >= 2])\n",
    "print(chickenbowlfood, '번')"
   ]
  },
  {
   "cell_type": "code",
   "execution_count": null,
   "metadata": {},
   "outputs": [],
   "source": []
  }
 ],
 "metadata": {
  "kernelspec": {
   "display_name": "Python 3",
   "language": "python",
   "name": "python3"
  },
  "language_info": {
   "codemirror_mode": {
    "name": "ipython",
    "version": 3
   },
   "file_extension": ".py",
   "mimetype": "text/x-python",
   "name": "python",
   "nbconvert_exporter": "python",
   "pygments_lexer": "ipython3",
   "version": "3.8.5"
  }
 },
 "nbformat": 4,
 "nbformat_minor": 2
}
